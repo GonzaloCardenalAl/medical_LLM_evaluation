{
 "cells": [
  {
   "cell_type": "code",
   "execution_count": 1,
   "id": "dfadabb5-48ae-40af-8e3d-83733d0f74c8",
   "metadata": {},
   "outputs": [
    {
     "name": "stderr",
     "output_type": "stream",
     "text": [
      "/cluster/software/stacks/2024-05/python-cuda/3.11.6/lib/python3.11/site-packages/torch/cuda/__init__.py:619: UserWarning: Can't initialize NVML\n",
      "  warnings.warn(\"Can't initialize NVML\")\n",
      "2025-01-17 13:37:07.245404: I tensorflow/core/platform/cpu_feature_guard.cc:210] This TensorFlow binary is optimized to use available CPU instructions in performance-critical operations.\n",
      "To enable the following instructions: AVX2 FMA, in other operations, rebuild TensorFlow with the appropriate compiler flags.\n",
      "2025-01-17 13:37:10.545453: W tensorflow/compiler/tf2tensorrt/utils/py_utils.cc:38] TF-TRT Warning: Could not find TensorRT\n"
     ]
    },
    {
     "data": {
      "text/plain": [
       "(\"<|begin_of_text|><|start_header_id|>system<|end_header_id|>\\n\\nCutting Knowledge Date: December 2023\\nToday Date: 26 Jul 2024\\n\\nYou are a senior physician specializing in HIV. You are assisting a junior clinician answering medical questions. Keep your answers brief and clear. If a question does not make any sense, or is not factually coherent, explain why instead of answering something not correct. If you don't know the answer to a question, please don't share false information.<|eot_id|><|start_header_id|>user<|end_header_id|>\\n\\nWhat are thes symptoms of HIV?<|eot_id|>\",\n",
       " [{'role': 'system',\n",
       "   'content': \"You are a senior physician specializing in HIV. You are assisting a junior clinician answering medical questions. Keep your answers brief and clear. If a question does not make any sense, or is not factually coherent, explain why instead of answering something not correct. If you don't know the answer to a question, please don't share false information.\"},\n",
       "  {'role': 'user', 'content': 'What are thes symptoms of HIV?'}])"
      ]
     },
     "execution_count": 1,
     "metadata": {},
     "output_type": "execute_result"
    }
   ],
   "source": [
    "from transformers import AutoTokenizer, AutoModelForCausalLM, pipeline\n",
    "system_prompt=\"You are a senior physician specializing in HIV. You are assisting a junior clinician answering medical questions. Keep your answers brief and clear. If a question does not make any sense, or is not factually coherent, explain why instead of answering something not correct. If you don't know the answer to a question, please don't share false information.\"\n",
    "question = 'What are thes symptoms of HIV?'\n",
    "messages = [\n",
    "    {\"role\":\"system\", \"content\":system_prompt},\n",
    "    {\"role\":\"user\", \"content\":question}\n",
    "]\n",
    "\n",
    "tokenizer = AutoTokenizer.from_pretrained(\n",
    "    \"meta-llama/Llama-3.3-70B-Instruct\",\n",
    ")\n",
    "messages_templated = tokenizer.apply_chat_template(messages, tokenize=False)\n",
    "messages_templated, messages"
   ]
  },
  {
   "cell_type": "code",
   "execution_count": 2,
   "id": "052e0b4b-fb09-4463-9ba0-e362f51ccdf9",
   "metadata": {},
   "outputs": [],
   "source": [
    "messages = [\n",
    "    {\"role\":\"system\", \"content\":system_prompt},\n",
    "    {\"role\":\"user\", \"content\":question}\n",
    "]"
   ]
  },
  {
   "cell_type": "code",
   "execution_count": 3,
   "id": "f2f25fb4-cc3a-44e5-a919-c6c2c2e1296b",
   "metadata": {},
   "outputs": [
    {
     "name": "stdout",
     "output_type": "stream",
     "text": [
      "The history saving thread hit an unexpected error (OperationalError('disk I/O error')).History will not be written to the database.\n"
     ]
    },
    {
     "data": {
      "text/plain": [
       "(\"<|im_start|>system\\nYou are a senior physician specializing in HIV. You are assisting a junior clinician answering medical questions. Keep your answers brief and clear. If a question does not make any sense, or is not factually coherent, explain why instead of answering something not correct. If you don't know the answer to a question, please don't share false information.<|im_end|>\\n<|im_start|>user\\nWhat are thes symptoms of HIV?<|im_end|>\\n\",\n",
       " [{'role': 'system',\n",
       "   'content': \"You are a senior physician specializing in HIV. You are assisting a junior clinician answering medical questions. Keep your answers brief and clear. If a question does not make any sense, or is not factually coherent, explain why instead of answering something not correct. If you don't know the answer to a question, please don't share false information.\"},\n",
       "  {'role': 'user', 'content': 'What are thes symptoms of HIV?'}])"
      ]
     },
     "execution_count": 3,
     "metadata": {},
     "output_type": "execute_result"
    }
   ],
   "source": [
    "system_prompt=\"You are a senior physician specializing in HIV. You are assisting a junior clinician answering medical questions. Keep your answers brief and clear. If a question does not make any sense, or is not factually coherent, explain why instead of answering something not correct. If you don't know the answer to a question, please don't share false information.\"\n",
    "question = 'What are thes symptoms of HIV?'\n",
    "messages = [\n",
    "    {\"role\":\"system\", \"content\":system_prompt},\n",
    "    {\"role\":\"user\", \"content\":question}\n",
    "]\n",
    "\n",
    "tokenizer = AutoTokenizer.from_pretrained(\n",
    "    \"nvidia/NVLM-D-72B\",\n",
    ")\n",
    "messages_templated = tokenizer.apply_chat_template(messages, tokenize=False)\n",
    "messages_templated, messages"
   ]
  },
  {
   "cell_type": "code",
   "execution_count": null,
   "id": "4fb8b8b5-765f-4d79-931d-2688f434303e",
   "metadata": {},
   "outputs": [
    {
     "data": {
      "application/vnd.jupyter.widget-view+json": {
       "model_id": "4270e41994e8428b95971c050c89b70d",
       "version_major": 2,
       "version_minor": 0
      },
      "text/plain": [
       "config.json:   0%|          | 0.00/826 [00:00<?, ?B/s]"
      ]
     },
     "metadata": {},
     "output_type": "display_data"
    },
    {
     "data": {
      "application/vnd.jupyter.widget-view+json": {
       "model_id": "55b20d7cb84e4ee5aec034ab0aa000ea",
       "version_major": 2,
       "version_minor": 0
      },
      "text/plain": [
       "model.safetensors.index.json:   0%|          | 0.00/23.9k [00:00<?, ?B/s]"
      ]
     },
     "metadata": {},
     "output_type": "display_data"
    },
    {
     "data": {
      "application/vnd.jupyter.widget-view+json": {
       "model_id": "892ceb067b3542d3b3483db3d4240772",
       "version_major": 2,
       "version_minor": 0
      },
      "text/plain": [
       "Downloading shards:   0%|          | 0/4 [00:00<?, ?it/s]"
      ]
     },
     "metadata": {},
     "output_type": "display_data"
    },
    {
     "data": {
      "application/vnd.jupyter.widget-view+json": {
       "model_id": "5742025059b74c058dd996b3a7c70506",
       "version_major": 2,
       "version_minor": 0
      },
      "text/plain": [
       "model-00001-of-00004.safetensors:   0%|          | 0.00/4.98G [00:00<?, ?B/s]"
      ]
     },
     "metadata": {},
     "output_type": "display_data"
    }
   ],
   "source": [
    "custom_cache_dir = \"/cluster/scratch/gcardenal/LLM_models\"\n",
    "model = AutoModelForCausalLM.from_pretrained(\n",
    "            \"meta-llama/Llama-3.1-8B\",\n",
    "            cache_dir = custom_cache_dir,\n",
    "            device_map=\"auto\",\n",
    "            torch_dtype=\"auto\")\n",
    "\n",
    "pipe = pipeline(\"text-generation\",model=model, tokenizer = tokenizer, model_kwargs={\"torch_dtype\": torch.bfloat16},\n",
    "device_map=\"auto\")\n",
    "messages = [\n",
    "    {\"role\":\"system\", \"content\":system_prompt},\n",
    "    {\"role\":\"user\", \"content\":question}\n",
    "]\n",
    "messages_templated = tokenizer.apply_chat_template(messages, tokenize=False)\n",
    "#answer = pipe(messages_templated, max_new_tokens = 1024)[0]['generated_text'][-1]\n",
    "answer = pipe(messages_templated, max_new_tokens = 1024)[0]\n",
    "print(type(answer), answer)\n",
    "\n",
    "#NousResearch/Hermes-3-Llama-3.1-8B-GGUF"
   ]
  },
  {
   "cell_type": "code",
   "execution_count": null,
   "id": "e8ae52d8-2cca-428c-9ef2-ede62872b084",
   "metadata": {},
   "outputs": [],
   "source": []
  }
 ],
 "metadata": {
  "kernelspec": {
   "display_name": "Python 3 (ipykernel)",
   "language": "python",
   "name": "python3"
  },
  "language_info": {
   "codemirror_mode": {
    "name": "ipython",
    "version": 3
   },
   "file_extension": ".py",
   "mimetype": "text/x-python",
   "name": "python",
   "nbconvert_exporter": "python",
   "pygments_lexer": "ipython3",
   "version": "3.11.6"
  }
 },
 "nbformat": 4,
 "nbformat_minor": 5
}
